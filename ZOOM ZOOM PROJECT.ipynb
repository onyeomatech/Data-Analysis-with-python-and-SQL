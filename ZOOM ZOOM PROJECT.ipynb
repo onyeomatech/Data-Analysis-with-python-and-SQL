{
 "cells": [
  {
   "cell_type": "code",
   "execution_count": 1,
   "id": "beb256e8",
   "metadata": {},
   "outputs": [],
   "source": [
    "import pandas as pd\n",
    "import numpy as np\n",
    "import matplotlib.pyplot as plt\n",
    "import seaborn as sns\n",
    "from sqlalchemy import create_engine\n",
    "%matplotlib inline"
   ]
  },
  {
   "cell_type": "code",
   "execution_count": 2,
   "id": "a4e50be4",
   "metadata": {},
   "outputs": [],
   "source": [
    "cnxn_string = (\"postgresql+psycopg2://{username}:{pswd}@{host}:{port}/{database}\")"
   ]
  },
  {
   "cell_type": "code",
   "execution_count": 3,
   "id": "4841a0a2",
   "metadata": {},
   "outputs": [],
   "source": [
    "engine = create_engine(cnxn_string.format(\n",
    "    username= \"postgres\",\n",
    "    pswd=\"08090785267\",\n",
    "    host=\"localhost\",\n",
    "    port=5432,\n",
    "    database=\"sqldata\"\n",
    "))"
   ]
  },
  {
   "cell_type": "code",
   "execution_count": null,
   "id": "2aec2491",
   "metadata": {},
   "outputs": [],
   "source": [
    "# 2. Copy the data from the public transportation dataset to the ZoomZoom customer\n",
    "# database by creating a table for it in the ZoomZoom dataset.\n",
    "\n",
    "\n",
    "# 3. Find the maximum and minimum percentages in this data. Values below 0 will\n",
    "# most likely indicate missing data.\n"
   ]
  },
  {
   "cell_type": "code",
   "execution_count": 4,
   "id": "d9ef2a37",
   "metadata": {},
   "outputs": [],
   "source": [
    "max_min_query = \"\"\"\n",
    "SELECT\n",
    "    MAX(public_transportation_pct) AS max_pct,\n",
    "    MIN(public_transportation_pct) AS min_pct\n",
    "FROM public_transportation_by_zip;\n",
    "\"\"\""
   ]
  },
  {
   "cell_type": "code",
   "execution_count": 7,
   "id": "3cd1b819",
   "metadata": {},
   "outputs": [
    {
     "data": {
      "text/html": [
       "<div>\n",
       "<style scoped>\n",
       "    .dataframe tbody tr th:only-of-type {\n",
       "        vertical-align: middle;\n",
       "    }\n",
       "\n",
       "    .dataframe tbody tr th {\n",
       "        vertical-align: top;\n",
       "    }\n",
       "\n",
       "    .dataframe thead th {\n",
       "        text-align: right;\n",
       "    }\n",
       "</style>\n",
       "<table border=\"1\" class=\"dataframe\">\n",
       "  <thead>\n",
       "    <tr style=\"text-align: right;\">\n",
       "      <th></th>\n",
       "      <th>max_pct</th>\n",
       "      <th>min_pct</th>\n",
       "    </tr>\n",
       "  </thead>\n",
       "  <tbody>\n",
       "    <tr>\n",
       "      <th>0</th>\n",
       "      <td>100.0</td>\n",
       "      <td>-666666666.0</td>\n",
       "    </tr>\n",
       "  </tbody>\n",
       "</table>\n",
       "</div>"
      ],
      "text/plain": [
       "   max_pct      min_pct\n",
       "0    100.0 -666666666.0"
      ]
     },
     "execution_count": 7,
     "metadata": {},
     "output_type": "execute_result"
    }
   ],
   "source": [
    "pd.read_sql_query(max_min_query, engine)"
   ]
  },
  {
   "cell_type": "code",
   "execution_count": null,
   "id": "031db63b",
   "metadata": {},
   "outputs": [],
   "source": [
    "# 4. Calculate the average sales amounts for customers that live in high public\n",
    "# transportation regions (over 10%) as well as low public transportation usage (less\n",
    "# than, or equal to, 10%).\n"
   ]
  },
  {
   "cell_type": "code",
   "execution_count": 9,
   "id": "e571861f",
   "metadata": {},
   "outputs": [],
   "source": [
    "average_sales_per_customer_query =\"\"\"\n",
    "SELECT \n",
    "    (public_transportation_pct > 10) AS is_high_public_transport,\n",
    "    COUNT(s.customer_id) :: DOUBLE PRECISION / COUNT(DISTINCT c.customer_id) AS sales_per_customer\n",
    "FROM customers AS c\n",
    "INNER JOIN public_transportation_by_zip AS t ON t.zip_code = c.postal_code :: FLOAT\n",
    "LEFT JOIN sales AS s ON s.customer_id = c.customer_id\n",
    "WHERE public_transportation_pct >= 0\n",
    "GROUP BY 1;\n",
    "\"\"\""
   ]
  },
  {
   "cell_type": "code",
   "execution_count": 10,
   "id": "f97f0c84",
   "metadata": {},
   "outputs": [
    {
     "data": {
      "text/html": [
       "<div>\n",
       "<style scoped>\n",
       "    .dataframe tbody tr th:only-of-type {\n",
       "        vertical-align: middle;\n",
       "    }\n",
       "\n",
       "    .dataframe tbody tr th {\n",
       "        vertical-align: top;\n",
       "    }\n",
       "\n",
       "    .dataframe thead th {\n",
       "        text-align: right;\n",
       "    }\n",
       "</style>\n",
       "<table border=\"1\" class=\"dataframe\">\n",
       "  <thead>\n",
       "    <tr style=\"text-align: right;\">\n",
       "      <th></th>\n",
       "      <th>is_high_public_transport</th>\n",
       "      <th>sales_per_customer</th>\n",
       "    </tr>\n",
       "  </thead>\n",
       "  <tbody>\n",
       "    <tr>\n",
       "      <th>0</th>\n",
       "      <td>False</td>\n",
       "      <td>0.715691</td>\n",
       "    </tr>\n",
       "    <tr>\n",
       "      <th>1</th>\n",
       "      <td>True</td>\n",
       "      <td>0.831594</td>\n",
       "    </tr>\n",
       "  </tbody>\n",
       "</table>\n",
       "</div>"
      ],
      "text/plain": [
       "   is_high_public_transport  sales_per_customer\n",
       "0                     False            0.715691\n",
       "1                      True            0.831594"
      ]
     },
     "execution_count": 10,
     "metadata": {},
     "output_type": "execute_result"
    }
   ],
   "source": [
    "pd.read_sql_query(average_sales_per_customer_query, engine)"
   ]
  },
  {
   "cell_type": "code",
   "execution_count": null,
   "id": "2a501f5c",
   "metadata": {},
   "outputs": [],
   "source": [
    "# 5. Read the data into pandas and plot a histogram of the distribution (hint: you can\n",
    "# use my_data.plot.hist(y='public_transportation_pct') to plot a histogram if you\n",
    "# read the data into a my_data pandas DataFrame).\n"
   ]
  },
  {
   "cell_type": "code",
   "execution_count": 13,
   "id": "e25cbcad",
   "metadata": {},
   "outputs": [],
   "source": [
    "pub_query = \"SELECT * FROM public_transportation_by_zip WHERE public_transportation_pct >= 0;\"\n",
    "my_data = pd.read_sql_query(pub_query, engine)"
   ]
  },
  {
   "cell_type": "code",
   "execution_count": 14,
   "id": "84608767",
   "metadata": {},
   "outputs": [
    {
     "data": {
      "text/plain": [
       "<Axes: ylabel='Frequency'>"
      ]
     },
     "execution_count": 14,
     "metadata": {},
     "output_type": "execute_result"
    },
    {
     "data": {
      "image/png": "[encoded data removed]",
      "text/plain": [
       "<Figure size 640x480 with 1 Axes>"
      ]
     },
     "metadata": {},
     "output_type": "display_data"
    }
   ],
   "source": [
    "my_data.plot.hist(y='public_transportation_pct')"
   ]
  },
  {
   "cell_type": "code",
   "execution_count": 15,
   "id": "7c0ce1a9",
   "metadata": {},
   "outputs": [],
   "source": [
    "# 6. Group customers based on their zip code public transportation usage, rounded\n",
    "# to the nearest 10%, and look at the average number of transactions per customer.\n",
    "# Export this data to Excel and create a scatterplot to better understand the\n",
    "# relationship between public transportation usage and sales.\n"
   ]
  },
  {
   "cell_type": "code",
   "execution_count": 19,
   "id": "de4b7fbf",
   "metadata": {},
   "outputs": [],
   "source": [
    "sales_per_customer_query =\"\"\"\n",
    "SELECT \n",
    "   10 * ROUND(public_transportation_pct/10) AS public_transport_group,\n",
    "    COUNT(s.customer_id) :: DOUBLE PRECISION / COUNT(DISTINCT c.customer_id) AS sales_per_customer\n",
    "FROM customers AS c\n",
    "INNER JOIN public_transportation_by_zip AS t ON t.zip_code = c.postal_code :: FLOAT\n",
    "LEFT JOIN sales AS s ON s.customer_id = c.customer_id\n",
    "WHERE public_transportation_pct >= 0\n",
    "GROUP BY 1;\n",
    "\"\"\""
   ]
  },
  {
   "cell_type": "code",
   "execution_count": 20,
   "id": "77724a78",
   "metadata": {},
   "outputs": [],
   "source": [
    "sales_per_customer = pd.read_sql_query(sales_per_customer_query, engine)"
   ]
  },
  {
   "cell_type": "code",
   "execution_count": 21,
   "id": "a1b013c7",
   "metadata": {},
   "outputs": [
    {
     "data": {
      "text/html": [
       "<div>\n",
       "<style scoped>\n",
       "    .dataframe tbody tr th:only-of-type {\n",
       "        vertical-align: middle;\n",
       "    }\n",
       "\n",
       "    .dataframe tbody tr th {\n",
       "        vertical-align: top;\n",
       "    }\n",
       "\n",
       "    .dataframe thead th {\n",
       "        text-align: right;\n",
       "    }\n",
       "</style>\n",
       "<table border=\"1\" class=\"dataframe\">\n",
       "  <thead>\n",
       "    <tr style=\"text-align: right;\">\n",
       "      <th></th>\n",
       "      <th>public_transport_group</th>\n",
       "      <th>sales_per_customer</th>\n",
       "    </tr>\n",
       "  </thead>\n",
       "  <tbody>\n",
       "    <tr>\n",
       "      <th>0</th>\n",
       "      <td>0.0</td>\n",
       "      <td>0.714307</td>\n",
       "    </tr>\n",
       "    <tr>\n",
       "      <th>1</th>\n",
       "      <td>10.0</td>\n",
       "      <td>0.733236</td>\n",
       "    </tr>\n",
       "    <tr>\n",
       "      <th>2</th>\n",
       "      <td>20.0</td>\n",
       "      <td>0.811272</td>\n",
       "    </tr>\n",
       "    <tr>\n",
       "      <th>3</th>\n",
       "      <td>30.0</td>\n",
       "      <td>0.881288</td>\n",
       "    </tr>\n",
       "    <tr>\n",
       "      <th>4</th>\n",
       "      <td>40.0</td>\n",
       "      <td>0.755474</td>\n",
       "    </tr>\n",
       "    <tr>\n",
       "      <th>5</th>\n",
       "      <td>50.0</td>\n",
       "      <td>1.051471</td>\n",
       "    </tr>\n",
       "    <tr>\n",
       "      <th>6</th>\n",
       "      <td>60.0</td>\n",
       "      <td>0.994012</td>\n",
       "    </tr>\n",
       "    <tr>\n",
       "      <th>7</th>\n",
       "      <td>70.0</td>\n",
       "      <td>1.146341</td>\n",
       "    </tr>\n",
       "    <tr>\n",
       "      <th>8</th>\n",
       "      <td>80.0</td>\n",
       "      <td>0.763158</td>\n",
       "    </tr>\n",
       "  </tbody>\n",
       "</table>\n",
       "</div>"
      ],
      "text/plain": [
       "   public_transport_group  sales_per_customer\n",
       "0                     0.0            0.714307\n",
       "1                    10.0            0.733236\n",
       "2                    20.0            0.811272\n",
       "3                    30.0            0.881288\n",
       "4                    40.0            0.755474\n",
       "5                    50.0            1.051471\n",
       "6                    60.0            0.994012\n",
       "7                    70.0            1.146341\n",
       "8                    80.0            0.763158"
      ]
     },
     "execution_count": 21,
     "metadata": {},
     "output_type": "execute_result"
    }
   ],
   "source": [
    "sales_per_customer"
   ]
  },
  {
   "cell_type": "code",
   "execution_count": 22,
   "id": "0d23075d",
   "metadata": {},
   "outputs": [
    {
     "data": {
      "text/plain": [
       "<Axes: xlabel='public_transport_group', ylabel='sales_per_customer'>"
      ]
     },
     "execution_count": 22,
     "metadata": {},
     "output_type": "execute_result"
    },
    {
     "data": {
      "image/png": "[encoded data removed]",
      "text/plain": [
       "<Figure size 640x480 with 1 Axes>"
      ]
     },
     "metadata": {},
     "output_type": "display_data"
    }
   ],
   "source": [
    "sns.scatterplot( x='public_transport_group', y='sales_per_customer', data=sales_per_customer)"
   ]
  },
  {
   "cell_type": "code",
   "execution_count": 23,
   "id": "4bc4c659",
   "metadata": {},
   "outputs": [],
   "source": [
    "# The corelation between sales per customer and public transport group\n"
   ]
  },
  {
   "cell_type": "code",
   "execution_count": 24,
   "id": "51950ec9",
   "metadata": {},
   "outputs": [
    {
     "data": {
      "text/plain": [
       "0.5750441024143271"
      ]
     },
     "execution_count": 24,
     "metadata": {},
     "output_type": "execute_result"
    }
   ],
   "source": [
    "sales_per_customer['public_transport_group'].corr(sales_per_customer['sales_per_customer'])"
   ]
  },
  {
   "cell_type": "code",
   "execution_count": null,
   "id": "a7f91f69",
   "metadata": {},
   "outputs": [],
   "source": []
  }
 ],
 "metadata": {
  "kernelspec": {
   "display_name": "Python 3 (ipykernel)",
   "language": "python",
   "name": "python3"
  },
  "language_info": {
   "codemirror_mode": {
    "name": "ipython",
    "version": 3
   },
   "file_extension": ".py",
   "mimetype": "text/x-python",
   "name": "python",
   "nbconvert_exporter": "python",
   "pygments_lexer": "ipython3",
   "version": "3.11.4"
  }
 },
 "nbformat": 4,
 "nbformat_minor": 5
}
